{
 "cells": [
  {
   "cell_type": "markdown",
   "metadata": {},
   "source": [
    "# PyCity Schools Analysis\n",
    "\n",
    "* As a whole, schools with higher budgets, did not yield better test results. By contrast, schools with higher spending per student actually (\\$645-675) underperformed compared to schools with smaller budgets (<\\$585 per student).\n",
    "\n",
    "* As a whole, smaller and medium sized schools dramatically out-performed large sized schools on passing math performances (89-91% passing vs 67%).\n",
    "\n",
    "* As a whole, charter schools out-performed the public district schools across all metrics. However, more analysis will be required to glean if the effect is due to school practices or the fact that charter schools tend to serve smaller student populations per school. \n",
    "---"
   ]
  },
  {
   "cell_type": "markdown",
   "metadata": {},
   "source": [
    "### Note\n",
    "* Instructions have been included for each segment. You do not have to follow them exactly, but they are included to help you think through the steps."
   ]
  },
  {
   "cell_type": "code",
   "execution_count": null,
   "metadata": {},
   "outputs": [],
   "source": [
    "# Dependencies and Setup\n",
    "import pandas as pd\n",
    "pd.options.display.float_format = '${:,.2f}'.format\n",
    "import matplotlib.pyplot as plt\n",
    "import numpy as np\n",
    "import seaborn as sns\n",
    "%matplotlib inline\n",
    "\n",
    "pd.options.display.float_format = '{:,}'.format\n",
    "\n",
    "# File to Load (Remember to Change These)\n",
    "school_data_to_load = \"Resources/schools_complete.csv\"\n",
    "student_data_to_load = \"Resources/students_complete.csv\"\n",
    "\n",
    "# Read School and Student Data File and store into Pandas Data Frames\n",
    "school_data_df = pd.read_csv(school_data_to_load, encoding=\"ISO-8859-1\")\n",
    "student_data_df = pd.read_csv(student_data_to_load, encoding=\"ISO-8859-1\")\n",
    "\n",
    "school_data_df.dropna(how = 'any')\n",
    "student_data_df.dropna(how = 'any')"
   ]
  },
  {
   "cell_type": "code",
   "execution_count": null,
   "metadata": {},
   "outputs": [],
   "source": [
    "#check school file\n",
    "school_data_df.head"
   ]
  },
  {
   "cell_type": "code",
   "execution_count": null,
   "metadata": {},
   "outputs": [],
   "source": [
    "#check student file\n",
    "student_data_df.head"
   ]
  },
  {
   "cell_type": "code",
   "execution_count": null,
   "metadata": {},
   "outputs": [],
   "source": [
    "#calculate the number of schools\n",
    "total_schools = len(school_data_df)\n",
    "\n",
    "#calculate total number of students\n",
    "total_students = (school_data_df[\"size\"].sum())\n",
    "\n",
    "#Calculate the total budget\n",
    "total_budget = (school_data_df[\"budget\"].map('${:,.2f}'.format))\n",
    "total_budget = (school_data_df[\"budget\"].sum())\n",
    "\n",
    "#total_budget = (school_data_df[\"budget\"]\n",
    "\n",
    "#calculate average math scores\n",
    "avg_math = round(student_data_df[\"math_score\"].mean(), 1)\n",
    "\n",
    "#calcuate average reading score\n",
    "avg_read = round(student_data_df[\"reading_score\"].mean(),1)\n",
    "\n",
    "student_total = len(student_data_df)\n",
    "\n",
    "# Calculate the percentage of students with a passing math score (70 or greater)\n",
    "pass_math = ((student_data_df[\"math_score\"] >= 70).value_counts()[True])\n",
    "percent_pass_math = round((pass_math/student_total)*100,2)\n",
    "\n",
    "\n",
    "#Calculate the percentage of students with a passing reading score (70 or greater)\n",
    "pass_read = ((student_data_df[\"reading_score\"] >= 70).value_counts()[True])\n",
    "percent_pass_read = round((pass_read/student_total)*100,2)\n",
    "\n",
    "#Calculate the overall passing rate\n",
    "percent_overall_passing_rate = round((percent_pass_math + percent_pass_read)/2,1)\n",
    "\n",
    "district_summary_df = pd.DataFrame({\"Number of schools\": [total_schools],\n",
    "                                   \"Number of students\": [total_students],\n",
    "                                   \"Total budget\": [total_budget],\n",
    "                                   \"Average Math score\": [avg_math],\n",
    "                                   \"Percent with Passing Math Score\": [percent_pass_math],\n",
    "                                   \"Average Reading score\": [avg_read],\n",
    "                                   \"Percent with Passing Reading Score\": [percent_pass_read],\n",
    "                                   \"Percent of Students Passing Math and Reading\": [percent_overall_passing_rate]})\n",
    "district_summary_df\n",
    "\n",
    "district_summary_df.style.hide_index()\n",
    "district_summary_df.style\\\n",
    "  .set_precision(3)"
   ]
  },
  {
   "cell_type": "markdown",
   "metadata": {},
   "source": [
    "## District Summary\n",
    "\n",
    "* Calculate the total number of schools\n",
    "\n",
    "* Calculate the total number of students\n",
    "\n",
    "* Calculate the total budget\n",
    "\n",
    "* Calculate the average math score \n",
    "\n",
    "* Calculate the average reading score\n",
    "\n",
    "* Calculate the overall passing rate (overall average score), i.e. (avg. math score + avg. reading score)/2\n",
    "\n",
    "* Calculate the percentage of students with a passing math score (70 or greater)\n",
    "\n",
    "* Calculate the percentage of students with a passing reading score (70 or greater)\n",
    "\n",
    "* Create a dataframe to hold the above results\n",
    "\n",
    "* Optional: give the displayed data cleaner formatting"
   ]
  },
  {
   "cell_type": "code",
   "execution_count": null,
   "metadata": {},
   "outputs": [],
   "source": [
    "district_summary_df\n",
    "\n",
    "district_summary_df.style.hide_index()\n",
    "district_summary_df.style\\\n",
    "  .set_precision(3)"
   ]
  },
  {
   "cell_type": "markdown",
   "metadata": {},
   "source": [
    "## School Summary"
   ]
  },
  {
   "cell_type": "markdown",
   "metadata": {},
   "source": [
    "* Create an overview table that summarizes key metrics about each school, including:\n",
    "  * School Name\n",
    "  * School Type\n",
    "  * Total Students\n",
    "  * Total School Budget\n",
    "  * Per Student Budget\n",
    "  * Average Math Score\n",
    "  * Average Reading Score\n",
    "  * % Passing Math\n",
    "  * % Passing Reading\n",
    "  * Overall Passing Rate (Average of the above two)\n",
    "  \n",
    "* Create a dataframe to hold the above results"
   ]
  },
  {
   "cell_type": "code",
   "execution_count": null,
   "metadata": {},
   "outputs": [],
   "source": [
    "#School Summary\n",
    "\n",
    "# Combine the data into a single dataset\n",
    "school_data_complete = pd.merge(student_data_df, school_data_df, how=\"right\", on=[\"school_name\", \"school_name\"])\n",
    "school_data_complete\n",
    "print(school_data_complete.head())\n",
    "\n",
    "#group students by school\n",
    "student_groupby_school = student_data_df.groupby([\"school_name\"])\n",
    "#student_groupby_school.head(5)\n",
    "\n",
    "#calculate average math scores and total number passing by school\n",
    "avg_math_school = pd.DataFrame(round(student_groupby_school[\"math_score\"].mean(), 1))\n",
    "avg_math_school.columns = [\"average math score\"]\n",
    "avg_math_school = avg_math_school.reset_index()\n",
    "#avg_math_school.head(5)\n",
    "\n",
    "pass_math_school = student_data_df[student_data_df[\"math_score\"] > 70].groupby(\"school_name\")\n",
    "pass_math_school\n",
    "pass_math_school.head(5)\n",
    "\n",
    "#calculate average reading scores and total number passing by school\n",
    "avg_read_school = pd.DataFrame(round(student_groupby_school[\"reading_score\"].mean(), 1))\n",
    "avg_read_school.columns = [\"average reading score\"]\n",
    "avg_read_school = avg_read_school.reset_index()\n",
    "avg_read_school.head(5)\n",
    "\n",
    "pass_read_school = student_data_df[student_data_df[\"reading_score\"] > 70].groupby(\"school_name\")\n",
    "pass_read_school.head(5)\n",
    "\n",
    "\n",
    "# Calculate the percentage of students with a passing math score (70 or greater)\n",
    "pass_math_total_school = pd.DataFrame(round(pass_math_school[\"math_score\"].count(),1))\n",
    "pass_math_total_school.columns = [\"number passing math\"]\n",
    "pass_math_total_school = pass_math_total_school.reset_index()\n",
    "\n",
    "\n",
    "#Calculate the percentage of students with a passing reading score (70 or greater)\n",
    "pass_read_total_school = pd.DataFrame(round(pass_read_school[\"reading_score\"].count(),1))\n",
    "pass_read_total_school.columns = [\"number passing reading\"]\n",
    "pass_read_total_school = pass_read_total_school.reset_index()\n",
    "\n",
    "#calcuate\n",
    "\n",
    "#Calculate the overall passing rate\n",
    "percent_overall_passing_rate = round((percent_pass_math + percent_pass_read)/2,1)\n",
    "percent_overall_passing_rate\n",
    "\n",
    "#combine the datasets in one\n",
    "#Create a dataframe to hold the above results\n",
    "\n",
    "combined_df = pd.merge(school_data_df, avg_math_school, on = \"school_name\", how = \"outer\")\n",
    "\n",
    "combined_df = pd.merge(combined_df, avg_read_school, on = \"school_name\", how = \"outer\")\n",
    "\n",
    "combined_df = pd.merge(combined_df, pass_math_total_school, on = \"school_name\", how = \"outer\")\n",
    "\n",
    "combined_df = pd.merge(combined_df, pass_read_total_school, on = \"school_name\", how = \"outer\")\n",
    "\n",
    "combined_df\n",
    "\n",
    "#Per Student Budget as a column\n",
    "combined_df[\"per student spending\"] = round(combined_df[\"budget\"]/combined_df[\"size\"], 2)\n",
    "combined_df\n"
   ]
  },
  {
   "cell_type": "code",
   "execution_count": null,
   "metadata": {},
   "outputs": [],
   "source": [
    "#Sort and display the top five schools in overall passing rate\n",
    "#create a percentage column for the number of students per schools passing reading\n",
    "combined_df[\"% passing reading\"] = round((combined_df[\"number passing reading\"]/combined_df[\"size\"])*100,1)\n",
    "\n",
    "#create a percentage column for the number of students per schools passing math\n",
    "combined_df[\"% passing math\"] = round((combined_df[\"number passing math\"]/combined_df[\"size\"])*100,1)"
   ]
  },
  {
   "cell_type": "markdown",
   "metadata": {},
   "source": [
    "## Top Performing Schools (By Passing Rate)"
   ]
  },
  {
   "cell_type": "markdown",
   "metadata": {},
   "source": [
    "* Sort and display the top five schools in overall passing rate"
   ]
  },
  {
   "cell_type": "code",
   "execution_count": null,
   "metadata": {},
   "outputs": [],
   "source": [
    "#sns.heatmap(combined_df, annot=True)\n",
    "\n",
    "#combine the two scores to get a percentage of students passing both math and reading, per school\n",
    "combined_df[\"% passing both\"] = round((combined_df[\"% passing reading\"] + combined_df[\"% passing math\"])/2,1)\n",
    "combined_df.sort_values(by=\"% passing both\", ascending=False).head(5)"
   ]
  },
  {
   "cell_type": "markdown",
   "metadata": {},
   "source": [
    "## Bottom Performing Schools (By Passing Rate)"
   ]
  },
  {
   "cell_type": "markdown",
   "metadata": {},
   "source": [
    "* Sort and display the five worst-performing schools"
   ]
  },
  {
   "cell_type": "code",
   "execution_count": null,
   "metadata": {},
   "outputs": [],
   "source": [
    "#combine the two scores to get a percentage of students passing both math and reading, per school\n",
    "combined_df[\"% passing both\"] = round((combined_df[\"% passing reading\"] + combined_df[\"% passing math\"])/2,1)\n",
    "combined_df.sort_values(by=\"% passing both\", ascending=True).head(5)"
   ]
  },
  {
   "cell_type": "markdown",
   "metadata": {
    "collapsed": true
   },
   "source": [
    "## Math Scores by Grade"
   ]
  },
  {
   "cell_type": "markdown",
   "metadata": {},
   "source": [
    "* Create a table that lists the average Reading Score for students of each grade level (9th, 10th, 11th, 12th) at each school.\n",
    "\n",
    "  * Create a pandas series for each grade. Hint: use a conditional statement.\n",
    "  \n",
    "  * Group each series by school\n",
    "  \n",
    "  * Combine the series into a dataframe\n",
    "  \n",
    "  * Optional: give the displayed data cleaner formatting"
   ]
  },
  {
   "cell_type": "code",
   "execution_count": null,
   "metadata": {},
   "outputs": [],
   "source": [
    "#create tables by grade level\n",
    "\n",
    "ninth_grade = student_data_df.loc[student_data_df[\"grade\"] == \"9th\"].groupby(\"school_name\", as_index = False)\n",
    "tenth_grade = student_data_df.loc[student_data_df[\"grade\"] == \"10th\"].groupby(\"school_name\", as_index = False)\n",
    "eleventh_grade = student_data_df.loc[student_data_df[\"grade\"] == \"11th\"].groupby(\"school_name\", as_index = False)\n",
    "twelfth_grade = student_data_df.loc[student_data_df[\"grade\"] == \"12th\"].groupby(\"school_name\", as_index = False)\n",
    "ninth_grade.head()\n",
    "tenth_grade.head()\n",
    "eleventh_grade.head()\n",
    "twelfth_grade.head()\n",
    "\n",
    "#create average math scores per grade\n",
    "avg_math_score_ninthgradelevel_df = pd.DataFrame(round(ninth_grade[\"math_score\"].mean(),1))\n",
    "avg_math_score_tenthgradelevel_df = pd.DataFrame(round(tenth_grade[\"math_score\"].mean(),1))\n",
    "avg_math_score_eleventhgradelevel_df = pd.DataFrame(round(eleventh_grade[\"math_score\"].mean(),1))\n",
    "avg_math_score_twelfthgradelevel_df = pd.DataFrame(round(twelfth_grade[\"math_score\"].mean(),1))\n",
    "\n",
    "average_math_bygrade_df = pd.merge(avg_math_score_ninthgradelevel_df, avg_math_score_tenthgradelevel_df, on = \"school_name\", how = \"inner\")\n",
    "average_math_bygrade_df = pd.merge(average_math_bygrade_df, avg_math_score_eleventhgradelevel_df, on = \"school_name\", how = \"inner\")\n",
    "average_math_bygrade_df = pd.merge(average_math_bygrade_df, avg_math_score_twelfthgradelevel_df, on = \"school_name\", how = \"inner\")\n",
    "average_math_bygrade_df.head(5)\n",
    "\n",
    "average_math_bygrade_df.columns = [\"school_name\", \"9th\", \"10th\", \"11th\", \"12th\"]\n",
    "average_math_bygrade_df"
   ]
  },
  {
   "cell_type": "markdown",
   "metadata": {},
   "source": [
    "## Reading Score by Grade "
   ]
  },
  {
   "cell_type": "markdown",
   "metadata": {},
   "source": [
    "* Perform the same operations as above for reading scores"
   ]
  },
  {
   "cell_type": "code",
   "execution_count": null,
   "metadata": {},
   "outputs": [],
   "source": [
    "#create tables by grade level\n",
    "\n",
    "ninth_grade = student_data_df.loc[student_data_df[\"grade\"] == \"9th\"].groupby(\"school_name\", as_index = False)\n",
    "tenth_grade = student_data_df.loc[student_data_df[\"grade\"] == \"10th\"].groupby(\"school_name\", as_index = False)\n",
    "eleventh_grade = student_data_df.loc[student_data_df[\"grade\"] == \"11th\"].groupby(\"school_name\", as_index = False)\n",
    "twelfth_grade = student_data_df.loc[student_data_df[\"grade\"] == \"12th\"].groupby(\"school_name\", as_index = False)\n",
    "ninth_grade.head()\n",
    "tenth_grade.head()\n",
    "eleventh_grade.head()\n",
    "twelfth_grade.head()\n",
    "\n",
    "#create average math scores per grade\n",
    "avg_reading_score_ninthgradelevel_df = pd.DataFrame(round(ninth_grade[\"reading_score\"].mean(),1))\n",
    "avg_reading_score_tenthgradelevel_df = pd.DataFrame(round(tenth_grade[\"reading_score\"].mean(),1))\n",
    "avg_reading_score_eleventhgradelevel_df = pd.DataFrame(round(eleventh_grade[\"reading_score\"].mean(),1))\n",
    "avg_reading_score_twelfthgradelevel_df = pd.DataFrame(round(twelfth_grade[\"reading_score\"].mean(),1))\n",
    "\n",
    "average_reading_bygrade_df = pd.merge(avg_reading_score_ninthgradelevel_df, avg_reading_score_tenthgradelevel_df, on = \"school_name\", how = \"inner\")\n",
    "average_reading_bygrade_df = pd.merge(average_reading_bygrade_df, avg_reading_score_eleventhgradelevel_df, on = \"school_name\", how = \"inner\")\n",
    "average_reading_bygrade_df = pd.merge(average_reading_bygrade_df, avg_reading_score_twelfthgradelevel_df, on = \"school_name\", how = \"inner\")\n",
    "average_reading_bygrade_df.head(5)\n",
    "\n",
    "average_reading_bygrade_df.columns = [\"school_name\", \"9th\", \"10th\", \"11th\", \"12th\"]\n",
    "average_reading_bygrade_df"
   ]
  },
  {
   "cell_type": "markdown",
   "metadata": {},
   "source": [
    "## Scores by School Spending"
   ]
  },
  {
   "cell_type": "markdown",
   "metadata": {},
   "source": [
    "* Create a table that breaks down school performances based on average Spending Ranges (Per Student). Use 4 reasonable bins to group school spending. Include in the table each of the following:\n",
    "  * Average Math Score\n",
    "  * Average Reading Score\n",
    "  * % Passing Math\n",
    "  * % Passing Reading\n",
    "  * Overall Passing Rate (Average of the above two)"
   ]
  },
  {
   "cell_type": "code",
   "execution_count": null,
   "metadata": {},
   "outputs": [],
   "source": [
    "# Sample bins. Feel free to create your own bins.\n",
    "spending_bins = [0, 585, 615, 645, 675]\n",
    "group_names = [\"<$585\", \"$585-615\", \"$615-645\", \"$645-675\"]"
   ]
  },
  {
   "cell_type": "code",
   "execution_count": null,
   "metadata": {},
   "outputs": [],
   "source": [
    "#combined_df.describe\n",
    "spending_bins = [0, 578, 592, 628, 645]\n",
    "group_names = [\"0 - 577\", \"588 - 593\", \"594 - 628\", \"629 - 645\"]\n",
    "#performance by spending\n",
    "spending_metric = round(combined_df[[\"average reading score\", \"% passing reading\",\n",
    "                                              \"average math score\", \"% passing math\", \"% passing both\"\n",
    "                                              ]].groupby(pd.cut(combined_df[\"per student spending\"], bins = spending_bins, labels = group_names)).mean(),1)\n",
    "spending_metric"
   ]
  },
  {
   "cell_type": "code",
   "execution_count": null,
   "metadata": {},
   "outputs": [],
   "source": []
  },
  {
   "cell_type": "markdown",
   "metadata": {},
   "source": [
    "## Scores by School Size"
   ]
  },
  {
   "cell_type": "markdown",
   "metadata": {},
   "source": [
    "* Perform the same operations as above, based on school size."
   ]
  },
  {
   "cell_type": "code",
   "execution_count": null,
   "metadata": {},
   "outputs": [],
   "source": [
    "# Sample bins. Feel free to create your own bins.\n",
    "size_bins = [0, 1000, 2000, 5000]\n",
    "group_names = [\"Small (<1000)\", \"Medium (1000-2000)\", \"Large (2000-5000)\"]"
   ]
  },
  {
   "cell_type": "code",
   "execution_count": null,
   "metadata": {
    "scrolled": true
   },
   "outputs": [],
   "source": [
    "size_bins = [0, 500, 1499, 2499, 3474]\n",
    "group_names = [\"small (1 to 499)\", \"medium (500 to 1499)\", \"large (1500 to 2499)\", \"largest (2500 and 5000)\"]\n",
    " \n",
    "#performance by size\n",
    "size_metric = round(combined_df[[\"average reading score\", \"% passing reading\",\n",
    "                                              \"average math score\", \"% passing math\", \"% passing both\"\n",
    "                                              ]].groupby(pd.cut(combined_df[\"size\"], bins = size_bins, labels = group_names)).mean(),1)\n",
    "size_metric    \n",
    "    "
   ]
  },
  {
   "cell_type": "markdown",
   "metadata": {},
   "source": [
    "## Scores by School Type"
   ]
  },
  {
   "cell_type": "markdown",
   "metadata": {},
   "source": [
    "* Perform the same operations as above, based on school type."
   ]
  },
  {
   "cell_type": "code",
   "execution_count": null,
   "metadata": {},
   "outputs": [],
   "source": [
    "combined_df.head(15)"
   ]
  },
  {
   "cell_type": "code",
   "execution_count": null,
   "metadata": {},
   "outputs": [],
   "source": [
    "#scores by school type\n",
    "schooltype_metric = round(combined_df[[\"average reading score\", \"% passing reading\",\n",
    "                                              \"average math score\", \"% passing math\", \"% passing both\"\n",
    "                                              ]].groupby(combined_df[\"type\"]).mean(), 1)\n",
    "schooltype_metric"
   ]
  },
  {
   "cell_type": "code",
   "execution_count": null,
   "metadata": {},
   "outputs": [],
   "source": [
    "schooltype_metric\n",
    "schooltype = [\"Charter\", \"District\"]\n",
    "pct_passing_both = [91.7, 71.3]\n",
    "x_axis = np.arange(len(Schooltype))\n",
    "# Create a bar chart based upon the above data\n",
    "plt.bar(x_axis, pct_passing_both, color=\"b\", align=\"center\")\n",
    "# Create the ticks for our bar chart's x axis\n",
    "tick_locations = [value for value in x_axis]\n",
    "plt.xticks(tick_locations, Schooltype)\n",
    "# Set the limits of the x axis\n",
    "#plt.xlim(-0.75, len(x_axis)-0.25)\n",
    "# Set the limits of the y axis\n",
    "plt.ylim(0, max(pct_passing_both)+20)\n",
    "# Give the chart a title, x label, and y label\n",
    "plt.title(\"Percent of Students Passing Reading and Math\")\n",
    "plt.xlabel(\"School Type\")\n",
    "plt.ylabel(\"Percent\")\n",
    "# Save an image of the chart and print it to the screen\n",
    "plt.savefig(\"../Images/schooltype_metric.png\")\n",
    "plt.show()"
   ]
  },
  {
   "cell_type": "code",
   "execution_count": null,
   "metadata": {},
   "outputs": [],
   "source": [
    "size_metric \n",
    "sizemetric = [\"small\", \"medium\", \"large\", \"largest\"]\n",
    "pct_passing_both = [91.6, 91.8, 91.7, 71.2]\n",
    "x_axis = np.arange(len(sizemetric))\n",
    "# Create a bar chart based upon the above data\n",
    "plt.bar(x_axis, pct_passing_both, color=\"r\", align=\"center\")\n",
    "# Create the ticks for our bar chart's x axis\n",
    "tick_locations = [value for value in x_axis]\n",
    "plt.xticks(tick_locations, sizemetric)\n",
    "# Set the limits of the x axis\n",
    "#plt.xlim(-0.75, len(x_axis)-0.25)\n",
    "# Set the limits of the y axis\n",
    "plt.ylim(0, max(pct_passing_both)+20)\n",
    "# Give the chart a title, x label, and y label\n",
    "plt.title(\"Percent of Students Passing Reading and Math\")\n",
    "plt.xlabel(\"School Size\")\n",
    "plt.ylabel(\"Percent\")\n",
    "# Save an image of the chart and print it to the screen\n",
    "plt.savefig(\"../Images/sizemetric_metric.png\")\n",
    "plt.show()"
   ]
  },
  {
   "cell_type": "code",
   "execution_count": null,
   "metadata": {},
   "outputs": [],
   "source": [
    "spending_metric \n",
    "spendingmetric = [\"577 or less\", \"588 to 593\", \"594 to 638\", \"629 to 645\"]\n",
    "pct_passing_both = [92.1, 91.7, 86.7, 76.3]\n",
    "x_axis = np.arange(len(spendingmetric))\n",
    "# Create a bar chart based upon the above data\n",
    "plt.bar(x_axis, pct_passing_both, color=\"c\", align=\"center\")\n",
    "# Create the ticks for our bar chart's x axis\n",
    "tick_locations = [value for value in x_axis]\n",
    "plt.xticks(tick_locations, spendingmetric)\n",
    "# Set the limits of the x axis\n",
    "#plt.xlim(-0.75, len(x_axis)-0.25)\n",
    "# Set the limits of the y axis\n",
    "plt.ylim(0, max(pct_passing_both)+20)\n",
    "# Give the chart a title, x label, and y label\n",
    "plt.title(\"Percent of Students Passing Reading and Math\")\n",
    "plt.xlabel(\"Spending per Student $\")\n",
    "plt.ylabel(\"Percent\")\n",
    "# Save an image of the chart and print it to the screen\n",
    "plt.savefig(\"../Images/spendingmetric.png\")\n",
    "plt.show()"
   ]
  },
  {
   "cell_type": "code",
   "execution_count": null,
   "metadata": {},
   "outputs": [],
   "source": [
    "#Takeaways and conclusions\n",
    "#More spending does not mean a higher percentage of students passing reading and math; however there is likley \n",
    "#more study to be done on the ideal amount spent per student. Other factors are size and charter status.\n",
    "#Related, the largest schools have the lowest percent of students passing reading and math; put another way,\n",
    "#the smaller the school, the higher the percentage of students passing both math and reading.\n",
    "#Generally, charter schools, which are smaller are more likely to have a higher percentage \n",
    "#of students passing both reading and math, by 20 percentage points on average."
   ]
  },
  {
   "cell_type": "code",
   "execution_count": null,
   "metadata": {},
   "outputs": [],
   "source": []
  }
 ],
 "metadata": {
  "anaconda-cloud": {},
  "kernel_info": {
   "name": "python3"
  },
  "kernelspec": {
   "display_name": "Python 3",
   "language": "python",
   "name": "python3"
  },
  "language_info": {
   "codemirror_mode": {
    "name": "ipython",
    "version": 3
   },
   "file_extension": ".py",
   "mimetype": "text/x-python",
   "name": "python",
   "nbconvert_exporter": "python",
   "pygments_lexer": "ipython3",
   "version": "3.7.1"
  },
  "nteract": {
   "version": "0.8.4"
  }
 },
 "nbformat": 4,
 "nbformat_minor": 1
}
